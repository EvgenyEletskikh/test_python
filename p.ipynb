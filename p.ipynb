
x = 0:0.1:100 
y = 2^(x)
print(y)
